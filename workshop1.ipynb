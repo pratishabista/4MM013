{
 "cells": [
  {
   "cell_type": "code",
   "execution_count": 1,
   "id": "35f6cb92-c03f-441c-9cb1-e8da7c5d1bcc",
   "metadata": {},
   "outputs": [
    {
     "name": "stdin",
     "output_type": "stream",
     "text": [
      "Enter the number of terms:  7\n"
     ]
    },
    {
     "name": "stdout",
     "output_type": "stream",
     "text": [
      "[0, 1, 1, 2, 3, 5, 8]\n"
     ]
    }
   ],
   "source": [
    "def fib(n):\n",
    "  if n == 1:\n",
    "    return [0]\n",
    "  elif n == 2:\n",
    "    return [0, 1]\n",
    "  else:\n",
    "    sequence = [0, 1]\n",
    "    a, b = 0, 1\n",
    "    for i in range(2, n):\n",
    "      c = a + b\n",
    "      sequence.append(c) #adding the integers in the list\n",
    "      a, b = b, c\n",
    "    return sequence\n",
    "while True:\n",
    "  try:\n",
    "    num = int(input(\"Enter the number of terms: \"))\n",
    "    if num <=0:\n",
    "      print(\"Invalid integer\")\n",
    "    else:\n",
    "      print(fib(num))\n",
    "      break\n",
    "  except ValueError as e:\n",
    "    print(e)"
   ]
  },
  {
   "cell_type": "code",
   "execution_count": 16,
   "id": "01f6bfe3-b7f8-4946-9f6a-b42ef6b6e9f0",
   "metadata": {},
   "outputs": [
    {
     "name": "stdout",
     "output_type": "stream",
     "text": [
      "8\n",
      "0.012345679012345678\n",
      "1\n"
     ]
    }
   ],
   "source": [
    "def myPow(x, n):\n",
    "    if n == 0:\n",
    "        return 1\n",
    "    elif n < 0:\n",
    "        return 1 / myPow(x, -n)\n",
    "    else:\n",
    "        result = 1\n",
    "        while n > 0:\n",
    "            result *= x\n",
    "            n -= 1\n",
    "        return result\n",
    "\n",
    "print(myPow(2, 3)) \n",
    "print(myPow(9, -2)) \n",
    "print(myPow(4, 0))\n"
   ]
  },
  {
   "cell_type": "code",
   "execution_count": 12,
   "id": "aa7dcbce-aecb-44ca-81b8-c04c0c1f195d",
   "metadata": {},
   "outputs": [
    {
     "name": "stdout",
     "output_type": "stream",
     "text": [
      "9\n"
     ]
    }
   ],
   "source": [
    "def sumDigits(n):\n",
    "    if n == 0:\n",
    "        return 0\n",
    "    else:\n",
    "        return (n % 10) + sumDigits(n // 10)\n",
    "print(sumDigits(234))"
   ]
  },
  {
   "cell_type": "code",
   "execution_count": 6,
   "id": "3e05aae3-856c-4186-aca0-86e85f17ef4c",
   "metadata": {},
   "outputs": [
    {
     "name": "stdout",
     "output_type": "stream",
     "text": [
      "29\n"
     ]
    }
   ],
   "source": [
    "def squaredSum(lst):\n",
    "    total = 0\n",
    "    for num in lst:\n",
    "        total += num ** 2\n",
    "    return total\n",
    "\n",
    "print(squaredSum([2, 3, 4]))  \n"
   ]
  },
  {
   "cell_type": "code",
   "execution_count": 8,
   "id": "4f1ed158-a615-41b4-9a40-948e3bc716ba",
   "metadata": {},
   "outputs": [
    {
     "name": "stdout",
     "output_type": "stream",
     "text": [
      "21\n"
     ]
    }
   ],
   "source": [
    "def sumDigits(num):\n",
    "    total = 0\n",
    "    for i in range(1, num + 1):\n",
    "        current_num = i\n",
    "        while current_num > 0:\n",
    "            total += current_num % 10\n",
    "            current_num //= 10\n",
    "    return total\n",
    "print(sumDigits(6)) \n",
    "\n"
   ]
  },
  {
   "cell_type": "code",
   "execution_count": null,
   "id": "027400ab-6a1e-4853-bcd2-38e6d4e30c42",
   "metadata": {},
   "outputs": [],
   "source": []
  }
 ],
 "metadata": {
  "kernelspec": {
   "display_name": "Python 3 (ipykernel)",
   "language": "python",
   "name": "python3"
  },
  "language_info": {
   "codemirror_mode": {
    "name": "ipython",
    "version": 3
   },
   "file_extension": ".py",
   "mimetype": "text/x-python",
   "name": "python",
   "nbconvert_exporter": "python",
   "pygments_lexer": "ipython3",
   "version": "3.12.2"
  }
 },
 "nbformat": 4,
 "nbformat_minor": 5
}
