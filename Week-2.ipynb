{
 "cells": [
  {
   "cell_type": "code",
   "execution_count": null,
   "id": "2df2872d-5020-48b0-8b60-f4786786d82b",
   "metadata": {},
   "outputs": [],
   "source": [
    "Question 1: Write a Python function that takes a list and returns a new list with distinct elements from the\n",
    "first list.\n",
    "Sample List : [1,2,3,3,3,3,4,5]\n",
    "Unique List : [1, 2, 3, 4, 5]"
   ]
  },
  {
   "cell_type": "code",
   "execution_count": null,
   "id": "fa168ba5-6010-4465-bdcf-9d05e9fcdf31",
   "metadata": {},
   "outputs": [],
   "source": [
    "def findUniqueElements(originalLst):\n",
    "    uniqElement = []\n",
    "    for i in originalLst:\n",
    "        if i not in uniqElement:\n",
    "            uniqElement.append(i)\n",
    "    return uniqElement\n",
    "print(findUniqueElements([2, 9, 5, 4, 2, 0, 1, 0, 1, 3, 9]))"
   ]
  },
  {
   "cell_type": "code",
   "execution_count": null,
   "id": "aded901f-2e46-4979-8d04-8af3e95d6914",
   "metadata": {},
   "outputs": [],
   "source": [
    "Question 2: Write a Python function that takes a number as a parameter and checks whether the number\n",
    "is prime or not."
   ]
  },
  {
   "cell_type": "code",
   "execution_count": null,
   "id": "a3a1f868-b3b7-4e97-be43-44ecf4ad1984",
   "metadata": {},
   "outputs": [],
   "source": [
    "def findPrime(num):\n",
    "    if num > 1:\n",
    "        for n in range(2, num):\n",
    "            if (num % n) == 0:\n",
    "                return False\n",
    "        return True\n",
    "    else:\n",
    "        return False\n",
    "\n",
    "while True:\n",
    "    try:\n",
    "        num = int(input(\"Enter the number: \"))\n",
    "        if num > 0:\n",
    "            if findPrime(num):\n",
    "                print(f\"{num} is a prime number.\")\n",
    "            else:\n",
    "                print(f\"{num} is not a prime number.\")\n",
    "            break\n",
    "        else:\n",
    "            print(\"Please enter a positive integer greater than 1.\")\n",
    "    except ValueError as err:\n",
    "        print(\"Invalid input. Please enter a valid integer.\")\n"
   ]
  },
  {
   "cell_type": "code",
   "execution_count": null,
   "id": "413176a3-a336-4e9c-9f42-9f002a0b84cc",
   "metadata": {},
   "outputs": [],
   "source": [
    "Question 3: Write a program to print twin primes less than 1000. If two consecutive odd numbers are\n",
    "both prime then they are known as twin primes."
   ]
  },
  {
   "cell_type": "code",
   "execution_count": null,
   "id": "219ce000-187f-4a61-81b4-5e2c4cc89e1b",
   "metadata": {},
   "outputs": [],
   "source": [
    "def findTwinPrime(num):\n",
    "    count = 0\n",
    "    for i in range(1, num + 1):\n",
    "        if num % i == 0:\n",
    "            count += 1\n",
    "    if count == 2:\n",
    "        return True\n",
    "    else:\n",
    "        return False\n",
    "\n",
    "for i in range(2, 1000):\n",
    "    j = i + 2\n",
    "    if findTwinPrime(i) and findTwinPrime(j):\n",
    "        print(\"({}, {})\".format(i, j))"
   ]
  },
  {
   "cell_type": "code",
   "execution_count": null,
   "id": "0d499e53-90c3-4ebc-9ff2-947108161db4",
   "metadata": {},
   "outputs": [],
   "source": [
    "Question 4: A positive integer is called a perfect number if it is equal to the sum of all of its divisors,\n",
    "including 1 but excluding the number itself. For example, 6 = 1 + 2 + 3. Write a\n",
    "function sumOfDivisors that takes a positive integer n and returns the sum of all its divisors\n",
    "(excluding n)."
   ]
  },
  {
   "cell_type": "code",
   "execution_count": null,
   "id": "4729a6d5-3254-4b64-8e56-d4c4711cdeb0",
   "metadata": {},
   "outputs": [],
   "source": [
    "def sumOfDivisors(n):\n",
    "    divisors = [i for i in range(1, n) if n % i == 0]\n",
    "    divisorSum = sum(divisors)\n",
    "    return divisors, divisorSum, divisorSum == n\n",
    "\n",
    "while True:\n",
    "    try:\n",
    "        num = int(input(\"Enter a positive integer: \"))\n",
    "        divisors, divisorSum, isPerfect = sumOfDivisors(num)\n",
    "        print(\"Divisors of\", num, \":\", divisors)\n",
    "        print(\"Sum of divisors:\", divisorSum)\n",
    "        if isPerfect:\n",
    "            print(num, \"is a perfect number.\")\n",
    "        else:\n",
    "            print(num, \"is not a perfect number.\")\n",
    "        break  \n",
    "    except ValueError as err:\n",
    "        print(err)"
   ]
  },
  {
   "cell_type": "code",
   "execution_count": null,
   "id": "080750fb-8c0c-4e74-b9a7-c1d4d45e0b0a",
   "metadata": {},
   "outputs": [],
   "source": [
    "Question 5: The smallest perfect number is 6. Write a program that finds and prints out the next perfect number. Hint: You should be able to reuse your sumOfDivisors function from your solution to the previous question."
   ]
  },
  {
   "cell_type": "code",
   "execution_count": null,
   "id": "3e348079-367c-4e9c-9db2-4cd920be49e1",
   "metadata": {},
   "outputs": [],
   "source": [
    "def sumOfDivisors(n):\n",
    "    divisors = [i for i in range(1, n) if n % i == 0]\n",
    "    divisorSum = sum(divisors)\n",
    "    return divisors, divisorSum, divisorSum == n\n",
    "    \n",
    "def perfectNumberafterSix():\n",
    "    number = 7  \n",
    "    while True:\n",
    "        divisors, divisorSum, isPerfect = sumOfDivisors(number)\n",
    "        if isPerfect:\n",
    "            print(\"Divisors of\", number, \":\", divisors)\n",
    "            print(\"Sum of divisors:\", divisorSum)\n",
    "            return number\n",
    "        number += 1\n",
    "\n",
    "print(\"The next perfect number after 6 is:\", perfectNumberafterSix())"
   ]
  },
  {
   "cell_type": "code",
   "execution_count": null,
   "id": "e9cdb889-5041-4fa0-82c4-98db51a970ef",
   "metadata": {},
   "outputs": [],
   "source": [
    "Question 6: Write the python program to find the mean median from the following list:\n",
    "Marks = [20, 30, 35, 55, 70, 80, 90] Do not use the library function if there is one."
   ]
  },
  {
   "cell_type": "code",
   "execution_count": null,
   "id": "f06527ab-5499-4040-9044-9304ed8fb37c",
   "metadata": {},
   "outputs": [],
   "source": [
    "def findMean(marks):\n",
    "    return sum(marks) / len(marks)\n",
    "    \n",
    "def findMedian(marks):\n",
    "    marks.sort()\n",
    "    n = len(marks)\n",
    "    return marks[n // 2] if n % 2 == 1 else (marks[n // 2 - 1] + markss[n // 2]) / 2\n",
    "\n",
    "marks = [20, 30, 35, 55, 70, 80, 90]\n",
    "print(\"The mean value of given list of integer is: \", findMean(marks))\n",
    "print(\"The median value of the given list of integers is:\", findMedian(marks))\n"
   ]
  },
  {
   "cell_type": "code",
   "execution_count": null,
   "id": "0bb4f816-091e-42f8-a1e8-82000623bc53",
   "metadata": {},
   "outputs": [],
   "source": [
    "Question 7: Write a function that converts a decimal number to binary number."
   ]
  },
  {
   "cell_type": "code",
   "execution_count": null,
   "id": "c2e2bb3e-80cd-4410-bd15-a89775521837",
   "metadata": {},
   "outputs": [],
   "source": [
    "def decimalToBinary(d_num):\n",
    "    b_num = \"\"\n",
    "    while d_num > 0:\n",
    "        b_num = str(d_num % 2) + b_num\n",
    "        d_num //= 2\n",
    "    return int(b_num) if b_num else 0\n",
    "while True:\n",
    "    try:\n",
    "        d_num = int(input(\"Enter the decimal number: \"))\n",
    "        print(\"Binary representation of\", d_num, \"is:\", decimalToBinary(d_num))\n",
    "        break\n",
    "    except ValueError as err:\n",
    "        print(\"Invalid input.\",err)"
   ]
  },
  {
   "cell_type": "code",
   "execution_count": null,
   "id": "c712d243-048a-4cba-97b6-6e572f9bd7b7",
   "metadata": {},
   "outputs": [],
   "source": [
    "Question 8: Write a function prodDigits() that inputs a number and returns the product of digits of that\n",
    "number."
   ]
  },
  {
   "cell_type": "code",
   "execution_count": null,
   "id": "32a75ef6-fcae-4dd4-a81e-46b1d8555216",
   "metadata": {},
   "outputs": [],
   "source": [
    "def prodDigits(n):\n",
    "    product = 1\n",
    "    for char in str(n):\n",
    "        digit = int(char)\n",
    "        product *= digit\n",
    "    return product\n",
    "\n",
    "while True:\n",
    "    try:\n",
    "        num = int(input(\"Enter a positive integer: \"))\n",
    "        if num <= 0:\n",
    "            print(\"Please enter positive integer only.\")\n",
    "            continue\n",
    "        else:\n",
    "            print(prodDigits(num))\n",
    "            break\n",
    "    except ValueError as err:\n",
    "        print(\"Invalid input.\", err)"
   ]
  },
  {
   "cell_type": "code",
   "execution_count": null,
   "id": "7e5bf431-8df6-4a26-a02e-9787b6002649",
   "metadata": {},
   "outputs": [],
   "source": [
    "Question 9: Write a function that will take in an unknown number of arguments and multiply all of them\n",
    "together and run the function for these 2 sets of numbers:\n",
    "a. 1,2,3,4,5\n",
    "b. 12,13,14"
   ]
  },
  {
   "cell_type": "code",
   "execution_count": null,
   "id": "6970ebcb-ed86-4580-959e-28c9474bfcfc",
   "metadata": {},
   "outputs": [],
   "source": [
    "def multiply(*args):\n",
    "    result = 1\n",
    "    for num in args:\n",
    "        result *= num\n",
    "    return result\n",
    "\n",
    "\n",
    "set1 = multiply(1, 2, 3, 4, 5)\n",
    "print(\"Multiplication of elements in set 1: \", set1)\n",
    "\n",
    "set2 = multiply(12, 13, 14)\n",
    "print(\"Multiplication of elements in set 2: \", set2)"
   ]
  },
  {
   "cell_type": "code",
   "execution_count": null,
   "id": "2587b2c5-9f43-4b87-bde6-034b8cf5169b",
   "metadata": {},
   "outputs": [],
   "source": [
    "SET: Perform the following operations on given sets.\n",
    "set1 = {10, 20, 30, 40, 50}\n",
    "set2 = {30, 40, 50, 60, 70}\n",
    "set3={10,20,30}"
   ]
  },
  {
   "cell_type": "code",
   "execution_count": null,
   "id": "876a8f4a-9387-41b9-b289-8d9f9139aa7b",
   "metadata": {},
   "outputs": [],
   "source": [
    "def operations(set1, set2, set3):\n",
    "    results = {}\n",
    "\n",
    "    # a. Find the length of set1\n",
    "    results[\"The length of set 1\"] = len(set1)\n",
    "\n",
    "    # b. Find the sum of elements in set 2\n",
    "    results[\"The sum of elements in set 2\"] = sum(set2)\n",
    "\n",
    "    # c. Union\n",
    "    results[\"Union\"] = set1.union(set2)\n",
    "\n",
    "    # d. Intersection\n",
    "    results[\"Intersection\"] = set1.intersection(set2)\n",
    "\n",
    "    # e. set1 - set2\n",
    "    results[\"Difference between Set 1 and Set 2\"] = set1 - set2\n",
    "\n",
    "    # f. set2 - set1\n",
    "    results[\"Difference between Set 2 and Set 1\"] = set2 - set1\n",
    "\n",
    "    # g. Check whether set3 is a subset of the given sets\n",
    "    results[\"Is set 3 a subset of the given sets?\"] = set3.issubset(set1) and set3.issubset(set2)\n",
    "\n",
    "    # h. If U={1,2,3,...,50} then find complement of set1\n",
    "    universal_set = set(range(1, 51))\n",
    "    results[\"Complement of set 1\"] = universal_set - set1\n",
    "\n",
    "    # i. Check if 15 is present in set1\n",
    "    results[\"Is 15 present in set 1?\"] = 15 in set1\n",
    "\n",
    "    # j. Add 60 to the first set\n",
    "    set1.add(60)\n",
    "    results[\"Set 1 after adding 60\"] = set1\n",
    "\n",
    "    # k. Remove 60 from the second set\n",
    "    set2.discard(60)\n",
    "    results[\"Set 2 after removing 60\"] = set2\n",
    "\n",
    "    # l. Remove all elements from set3\n",
    "    set3.clear()\n",
    "    results[\"Set 3 after removing all elements\"] = set3\n",
    "\n",
    "    # m. Print the maximum and minimum value in set2\n",
    "    results[\"Maximum value from set 2\"] = max(set2)\n",
    "    results[\"Minimum value from set 1\"] = min(set2)\n",
    "\n",
    "    return results\n",
    "\n",
    "set1 = {10, 20, 30, 40, 50}\n",
    "set2 = {30, 40, 50, 60, 70}\n",
    "set3 = {10, 20, 30}\n",
    "\n",
    "results = operations(set1, set2, set3)\n",
    "\n",
    "for key, value in results.items():\n",
    "    print(key,\":\",value)"
   ]
  }
 ],
 "metadata": {
  "kernelspec": {
   "display_name": "Python 3 (ipykernel)",
   "language": "python",
   "name": "python3"
  },
  "language_info": {
   "codemirror_mode": {
    "name": "ipython",
    "version": 3
   },
   "file_extension": ".py",
   "mimetype": "text/x-python",
   "name": "python",
   "nbconvert_exporter": "python",
   "pygments_lexer": "ipython3",
   "version": "3.12.2"
  }
 },
 "nbformat": 4,
 "nbformat_minor": 5
}
