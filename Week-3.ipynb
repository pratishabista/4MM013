{
 "cells": [
  {
   "cell_type": "code",
   "execution_count": null,
   "id": "e31f8fc9-c114-4f8a-a8d3-b855912658e4",
   "metadata": {},
   "outputs": [],
   "source": [
    "Name: Pratisha Bista\n",
    "University ID: 2408284"
   ]
  },
  {
   "cell_type": "code",
   "execution_count": null,
   "id": "710450b3-c4d7-45ad-bef5-3574a9054f4a",
   "metadata": {},
   "outputs": [],
   "source": [
    "Question 1: Draw the line represented by the function y=x."
   ]
  },
  {
   "cell_type": "code",
   "execution_count": null,
   "id": "051d4607-9694-43a2-8290-cf4f34c9ea4d",
   "metadata": {},
   "outputs": [],
   "source": [
    "import matplotlib.pyplot as plt\n",
    "\n",
    "x = range(-5, 10)\n",
    "\n",
    "y = [i for i in x]\n",
    "\n",
    "plt.plot(x, y)\n",
    "\n",
    "plt.xlabel('x')\n",
    "plt.ylabel('y')\n",
    "plt.title('Plot of y = x')\n",
    "\n",
    "plt.show()\n"
   ]
  },
  {
   "cell_type": "code",
   "execution_count": null,
   "id": "84197e0f-0e36-44e5-8e83-bbfb202f4c84",
   "metadata": {},
   "outputs": [],
   "source": [
    "Question 2: Draw a line in a diagram that joins the position (1, 3), (2, 8), (6, 1) and (8, 10)."
   ]
  },
  {
   "cell_type": "code",
   "execution_count": null,
   "id": "b64d65ae-e480-4fbf-a5c8-9b5fd2d1da08",
   "metadata": {},
   "outputs": [],
   "source": [
    "import matplotlib.pyplot as plt\n",
    "\n",
    "x = [1, 2, 6, 8]\n",
    "y = [3, 8, 1, 10]\n",
    "\n",
    "plt.plot(x, y, color='blue', linestyle='solid', marker='o', markersize=8, label='Line')\n",
    "\n",
    "plt.xlabel('X-axis')\n",
    "plt.ylabel('Y-axis')\n",
    "plt.title('Line Plot', fontsize=16, fontweight='bold')\n",
    "\n",
    "plt.grid(color='black', linestyle='--')\n",
    "\n",
    "plt.legend()\n",
    "\n",
    "plt.show()"
   ]
  },
  {
   "cell_type": "code",
   "execution_count": null,
   "id": "57a21c96-532f-475c-bd0e-a893151c108c",
   "metadata": {},
   "outputs": [],
   "source": [
    "Question 3: Plot 20 values of x and y from the following functions.\n",
    "\n",
    "f(x) = 5x^3 + 2x − 1\n",
    "f(x) = −2x^3 + x^2 + 100\n",
    "f(x) = 2πx + 20"
   ]
  },
  {
   "cell_type": "code",
   "execution_count": null,
   "id": "107163ca-a15b-41f5-9108-d25b15598056",
   "metadata": {},
   "outputs": [],
   "source": [
    "import matplotlib.pyplot as plt\n",
    "import math\n",
    "\n",
    "x1 = [-2 + i * 4/19 for i in range(20)]\n",
    "x2 = [-3 + i * 6/19 for i in range(20)]\n",
    "x3 = [-10 + i * 20/19 for i in range(20)]\n",
    "\n",
    "def function1(x):\n",
    "    return 5*x**3 + 2*x - 1\n",
    "\n",
    "def function2(x):\n",
    "    return -2*x**3 + x**2 + 100\n",
    "\n",
    "def function3(x):\n",
    "    return 2*math.pi*x + 20\n",
    "\n",
    "y1 = [function1(x) for x in x1]\n",
    "y2 = [function2(x) for x in x2]\n",
    "y3 = [function3(x) for x in x3]\n",
    "\n",
    "plt.plot(x1, y1, color='blue', label='f(x) = 5x^3 + 2x - 1')\n",
    "plt.plot(x2, y2, color='red', label='f(x) = -2x^3 + x^2 + 100')\n",
    "plt.plot(x3, y3, color='green', label='f(x) = 2πx + 20')\n",
    "\n",
    "plt.xlabel('x')\n",
    "plt.ylabel('y')\n",
    "plt.title('Plot of Three Functions', fontsize=16, fontweight='bold')\n",
    "\n",
    "plt.legend()\n",
    "plt.grid()\n",
    "plt.show()\n"
   ]
  },
  {
   "cell_type": "code",
   "execution_count": null,
   "id": "4da9557c-3fb4-49f1-92cb-a785270663c2",
   "metadata": {},
   "outputs": [],
   "source": [
    "Question 4: Plot all the graph from Q no 3 on the same pane using subplot."
   ]
  },
  {
   "cell_type": "code",
   "execution_count": null,
   "id": "64024f15-60d6-4789-bdf2-cadae24f430a",
   "metadata": {},
   "outputs": [],
   "source": [
    "import matplotlib.pyplot as plt\n",
    "\n",
    "x1 = [-2 + i * 4/19 for i in range(20)]\n",
    "x2 = [-3 + i * 6/19 for i in range(20)]\n",
    "x3 = [-10 + i * 20/19 for i in range(20)]\n",
    "\n",
    "def function1(x):\n",
    "    return 5*x**3 + 2*x - 1\n",
    "\n",
    "def function2(x):\n",
    "    return -2*x**3 + x**2 + 100\n",
    "\n",
    "def function3(x):\n",
    "    return 2*(22/7)*x + 20\n",
    "\n",
    "y1 = [function1(x) for x in x1]\n",
    "y2 = [function2(x) for x in x2]\n",
    "y3 = [function3(x) for x in x3]\n",
    "\n",
    "plt.figure(figsize=(15, 6))\n",
    "\n",
    "plt.subplot(1, 3, 1)\n",
    "plt.plot(x1, y1, label='f(x) = 5x^3 + 2x - 1', color='blue')\n",
    "plt.title('Function 1')\n",
    "plt.legend()\n",
    "\n",
    "plt.subplot(1, 3, 2)\n",
    "plt.plot(x2, y2, label='f(x) = -2x^3 + x^2 + 100', color='red')\n",
    "plt.title('Function 2')\n",
    "plt.legend()\n",
    "\n",
    "plt.subplot(1, 3, 3)\n",
    "plt.plot(x3, y3, label='f(x) = 2πx + 20', color='green')\n",
    "plt.title('Function 3')\n",
    "plt.legend()\n",
    "\n",
    "plt.suptitle('Plots of Three Functions', fontsize=16, fontweight='bold')\n",
    "\n",
    "plt.show()\n"
   ]
  },
  {
   "cell_type": "code",
   "execution_count": null,
   "id": "2c9252d3-18f8-4d48-b106-a0e4d018e462",
   "metadata": {},
   "outputs": [],
   "source": [
    "Task 2: The following table shows the different vehicles and the distance covered by them in the span\n",
    "of 5 days. Display the following table in line plot.\n",
    "a. Plot “days” in X- axis and “distance covered” in Y- axis.\n",
    "b. Title of the table “bike details in Plot”\n"
   ]
  },
  {
   "cell_type": "code",
   "execution_count": null,
   "id": "5ce2e699-2c5f-4023-b881-638bdb37c827",
   "metadata": {},
   "outputs": [],
   "source": [
    "import matplotlib.pyplot as plt\n",
    "\n",
    "days = ['DAY 1', 'DAY 2', 'DAY 3', 'DAY 4', 'DAY 5']\n",
    "enfield = [50, 40, 70, 80, 20]\n",
    "honda = [80, 20, 20, 50, 60]\n",
    "yahama = [70, 20, 60, 40, 60]\n",
    "ktm = [40, 20, 30, 70, 60]\n",
    "\n",
    "plt.plot(days, enfield, marker='o', label='ENFIELD')\n",
    "plt.plot(days, honda, marker='o', label='HONDA')\n",
    "plt.plot(days, yahama, marker='o', label='YAHAMA')\n",
    "plt.plot(days, ktm, marker='o', label='KTM')\n",
    "\n",
    "plt.xlabel('Days')\n",
    "plt.ylabel('Distance Covered (in km)')\n",
    "plt.title('Bike Details in Plot', fontsize=16, fontweight='bold')\n",
    "plt.legend()\n",
    "\n",
    "plt.grid()\n",
    "plt.xticks(rotation=45)  \n",
    "plt.tight_layout()  \n",
    "plt.show()"
   ]
  },
  {
   "cell_type": "code",
   "execution_count": null,
   "id": "1f6a0f72-a14e-4094-8d2c-2481132accd9",
   "metadata": {},
   "outputs": [],
   "source": [
    "Question 5: Plot all the graph from Task 2 using subplot."
   ]
  },
  {
   "cell_type": "code",
   "execution_count": null,
   "id": "3b7d9bb8-c6f4-4150-ab90-0f746d772698",
   "metadata": {},
   "outputs": [],
   "source": [
    "import matplotlib.pyplot as plt\n",
    "\n",
    "days = ['DAY 1', 'DAY 2', 'DAY 3', 'DAY 4', 'DAY 5']\n",
    "enfield = [50, 40, 70, 80, 20]\n",
    "honda = [80, 20, 20, 50, 60]\n",
    "yahama = [70, 20, 60, 40, 60]\n",
    "ktm = [40, 20, 30, 70, 60]\n",
    "\n",
    "plt.subplot(2, 2, 1)\n",
    "plt.plot(days, enfield, marker='o', color='red')\n",
    "plt.title('ENFIELD')\n",
    "plt.xlabel('Days')\n",
    "plt.ylabel('Distance Covered (km)')\n",
    "\n",
    "plt.subplot(2, 2, 2)\n",
    "plt.plot(days, honda, marker='x', color='green')\n",
    "plt.title('HONDA')\n",
    "plt.xlabel('Days')\n",
    "plt.ylabel('Distance Covered (km)')\n",
    "\n",
    "plt.subplot(2, 2, 3)\n",
    "plt.plot(days, yahama, marker='^', color='blue')\n",
    "plt.title('YAHAMA')\n",
    "plt.xlabel('Days')\n",
    "plt.ylabel('Distance Covered (km)')\n",
    "\n",
    "plt.subplot(2, 2, 4)\n",
    "plt.plot(days, ktm, marker='+', color='yellow')\n",
    "plt.title('KTM')\n",
    "plt.xlabel('Days')\n",
    "plt.ylabel('Distance Covered (km)')\n",
    "\n",
    "plt.tight_layout()\n",
    "\n",
    "plt.show()\n"
   ]
  },
  {
   "cell_type": "code",
   "execution_count": null,
   "id": "b4ae31a6-f3f9-4ae4-ae9f-0ba5302e6a76",
   "metadata": {},
   "outputs": [],
   "source": [
    "Customized Line Chart with Various Styles and Annotations\n",
    "\n",
    "Purpose:\n",
    "This code generates a line chart using Matplotlib with customized styles such as line style, marker style, colors, linewidth, markersize, transparency, annotations, and more.\n"
   ]
  },
  {
   "cell_type": "code",
   "execution_count": null,
   "id": "264b5ad6-a375-4745-8def-7ef58f1ad4fa",
   "metadata": {},
   "outputs": [],
   "source": [
    "import matplotlib.pyplot as plt\n",
    "\n",
    "x = [1, 2, 3, 4, 5]\n",
    "y = [2, 4, 6, 8, 10]\n",
    "\n",
    "fig, ax = plt.subplots(figsize=(8, 6))\n",
    "\n",
    "ax.plot(x, y, linestyle='-', linewidth=2, color='blue', marker='o', markersize=8,\n",
    "        markerfacecolor='red', markeredgewidth=2, markeredgecolor='green', alpha=0.7, label='Line 1')\n",
    "\n",
    "ax.set_xlim(0, 6)\n",
    "ax.set_ylim(0, 12)\n",
    "\n",
    "ax.grid(linestyle='--', linewidth=0.5, color='gray', alpha=0.5)\n",
    "\n",
    "ax.set_title('Line Chart with Various Styles', fontsize=16, fontweight='bold', color='purple')\n",
    "ax.set_xlabel('X-axis', fontsize=12, fontweight='bold', color='blue')\n",
    "ax.set_ylabel('Y-axis', fontsize=12, fontweight='bold', color='green')\n",
    "\n",
    "ax.legend(loc='upper left', fontsize=10, frameon=True, fancybox=True, shadow=True, facecolor='lightgray')\n",
    "\n",
    "ax.text(3, 8, 'Annotation', fontsize=10, fontstyle='italic', color='red')\n",
    "\n",
    "ax.annotate('Arrow', xy=(2, 4), xytext=(3, 6),\n",
    "            arrowprops=dict(facecolor='orange', shrink=0.05))\n",
    "\n",
    "plt.show()\n"
   ]
  },
  {
   "cell_type": "code",
   "execution_count": null,
   "id": "44f21d42-fdea-435a-b06c-36f840af11d5",
   "metadata": {},
   "outputs": [],
   "source": [
    "Explanation:\n",
    "\n",
    "**Sample data:** `x` and `y` are lists containing sample data points for the line chart.\n",
    "**Create figure and axis:** `fig, ax = plt.subplots(figsize=(8, 6))` creates a figure and axis object with a specified size.\n",
    "**Plot data:** `ax.plot()` plots the data with customized styles such as line style, linewidth, color, marker style, markersize, marker face color, marker edge width, marker edge color, and transparency.\n",
    "**Set axis limits:** `ax.set_xlim()` and `ax.set_ylim()` set the limits for the x and y axes, respectively.\n",
    "**Add gridlines:** `ax.grid()` adds gridlines to the plot with customized linestyle, linewidth, color, and transparency.\n",
    "**Add title and labels:** `ax.set_title()`, `ax.set_xlabel()`, and `ax.set_ylabel()` add a title, x-axis label, and y-axis label to the plot, respectively.\n",
    "**Add legend:** `ax.legend()` adds a legend to the plot with customized location, font size, frame, and background color.\n",
    "**Add text annotation:** `ax.text()` adds a text annotation to the plot at a specified position with customized font size, font style, and color.\n",
    "**Add arrow annotation:** `ax.annotate()` adds an arrow annotation to the plot from one point to another with customized arrow properties such as face color and shrinkage.\n",
    "\n",
    "Result:\n",
    "\n",
    "The code generates a line chart with various styles and annotations, making it visually appealing and informative.\n"
   ]
  }
 ],
 "metadata": {
  "kernelspec": {
   "display_name": "Python 3 (ipykernel)",
   "language": "python",
   "name": "python3"
  },
  "language_info": {
   "codemirror_mode": {
    "name": "ipython",
    "version": 3
   },
   "file_extension": ".py",
   "mimetype": "text/x-python",
   "name": "python",
   "nbconvert_exporter": "python",
   "pygments_lexer": "ipython3",
   "version": "3.12.2"
  }
 },
 "nbformat": 4,
 "nbformat_minor": 5
}
