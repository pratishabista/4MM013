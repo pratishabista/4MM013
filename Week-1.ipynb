{
 "cells": [
  {
   "cell_type": "code",
   "execution_count": null,
   "id": "11d831bc-7d76-4758-ba05-6095c87d1986",
   "metadata": {},
   "outputs": [],
   "source": [
    "Note: The use of built-in libraries has been avoided. "
   ]
  },
  {
   "cell_type": "code",
   "execution_count": null,
   "id": "f119a45d-178a-437f-929e-401d4ee05679",
   "metadata": {},
   "outputs": [],
   "source": [
    "Question 1: Write a function fib (n) that prompts the number of terms “n” from the user and displays first “n” terms of Fibonacci sequence iteratively."
   ]
  },
  {
   "cell_type": "code",
   "execution_count": null,
   "id": "4da7099e-d45d-4c75-86e4-d76853b3659d",
   "metadata": {},
   "outputs": [],
   "source": [
    "def fib(n):\n",
    "  if n == 1:\n",
    "    return [0]\n",
    "  elif n == 2:\n",
    "    return [0, 1]\n",
    "  else:\n",
    "    sequence = [0, 1]\n",
    "    a, b = 0, 1\n",
    "    for i in range(2, n):\n",
    "      c = a + b\n",
    "      sequence.append(c) #adding the integers in the list\n",
    "      a, b = b, c\n",
    "    return sequence\n",
    "while True:\n",
    "  try:\n",
    "    num = int(input(\"Enter the number of terms: \"))\n",
    "    if num <=0:\n",
    "      print(\"Invalid integer\")\n",
    "    else:\n",
    "      print(fib(num))\n",
    "      break\n",
    "  except ValueError as e:\n",
    "    print(e)"
   ]
  },
  {
   "cell_type": "code",
   "execution_count": null,
   "id": "8323f897-84a5-4de1-9402-8e690721e3c4",
   "metadata": {},
   "outputs": [],
   "source": [
    "Question 2: Write a function myPow(x, n) that returns x^n,where and n is a non-negative integer. Do not use the ** operator or the math.pow function - use one while loop."
   ]
  },
  {
   "cell_type": "code",
   "execution_count": null,
   "id": "4d6599b4-389e-457f-bbd3-6a0e66f36381",
   "metadata": {},
   "outputs": [],
   "source": [
    "def myPow(x, n):\n",
    "    if n == 0:\n",
    "        return 1\n",
    "    elif n < 0:\n",
    "        return 1 / myPow(x, -n)\n",
    "    else:\n",
    "        result = 1\n",
    "        while n > 0:\n",
    "            result *= x\n",
    "            n -= 1\n",
    "        return result\n",
    "\n",
    "print(myPow(2, 3)) \n",
    "print(myPow(9, -2)) \n",
    "print(myPow(4, 0))\n"
   ]
  },
  {
   "cell_type": "code",
   "execution_count": null,
   "id": "8867b0c0-bce3-4899-bfd3-a51f6b8d874f",
   "metadata": {},
   "outputs": [],
   "source": [
    "Question 3: Write a function SumDigits(n) that displays the sum of digits of “n”. "
   ]
  },
  {
   "cell_type": "code",
   "execution_count": null,
   "id": "aa1ed0f5-3877-47ee-b42d-b19083d8c05c",
   "metadata": {},
   "outputs": [],
   "source": [
    "def sumDigits(n):\n",
    "    if n == 0:\n",
    "        return 0\n",
    "    else:\n",
    "        return (n % 10) + sumDigits(n // 10)\n",
    "print(sumDigits(234))"
   ]
  },
  {
   "cell_type": "code",
   "execution_count": null,
   "id": "b74a904c-4294-4c77-b834-bf5b69ff3821",
   "metadata": {},
   "outputs": [],
   "source": [
    "Question 4: Write a function squaredSum that returns the sum of the squares of an array/list of integers such that squaredSum([2,3,4]) gives 29."
   ]
  },
  {
   "cell_type": "code",
   "execution_count": null,
   "id": "a8c3b42d-2d76-4d85-9bbe-a123caee7a14",
   "metadata": {},
   "outputs": [],
   "source": [
    "def squaredSum(lst):\n",
    "    total = 0\n",
    "    for num in lst:\n",
    "        total += num ** 2\n",
    "    return total\n",
    "\n",
    "print(squaredSum([2, 3, 4]))  "
   ]
  },
  {
   "cell_type": "code",
   "execution_count": null,
   "id": "cd1e2afb-1da0-4b3a-87eb-3de0e55b0a39",
   "metadata": {},
   "outputs": [],
   "source": [
    "Question 5: Write a function called sumDigits that is given an integer num and returns the sum of the digits of num."
   ]
  },
  {
   "cell_type": "code",
   "execution_count": null,
   "id": "4b688e38-0c95-4e47-a8df-5efbb9401d3e",
   "metadata": {},
   "outputs": [],
   "source": [
    "def sumDigits(num):\n",
    "    total = 0\n",
    "    for i in range(1, num + 1):\n",
    "        current_num = i\n",
    "        while current_num > 0:\n",
    "            total += current_num % 10\n",
    "            current_num //= 10\n",
    "    return total\n",
    "print(sumDigits(6)) \n",
    " "
   ]
  }
 ],
 "metadata": {
  "kernelspec": {
   "display_name": "Python 3 (ipykernel)",
   "language": "python",
   "name": "python3"
  },
  "language_info": {
   "codemirror_mode": {
    "name": "ipython",
    "version": 3
   },
   "file_extension": ".py",
   "mimetype": "text/x-python",
   "name": "python",
   "nbconvert_exporter": "python",
   "pygments_lexer": "ipython3",
   "version": "3.12.2"
  }
 },
 "nbformat": 4,
 "nbformat_minor": 5
}
